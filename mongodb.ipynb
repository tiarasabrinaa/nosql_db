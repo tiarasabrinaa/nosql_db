{
 "cells": [
  {
   "cell_type": "markdown",
   "id": "f565867d",
   "metadata": {},
   "source": [
    "## IMPORT DATAFRAME"
   ]
  },
  {
   "cell_type": "code",
   "execution_count": 15,
   "id": "22d11121",
   "metadata": {},
   "outputs": [
    {
     "data": {
      "text/html": [
       "<div>\n",
       "<style scoped>\n",
       "    .dataframe tbody tr th:only-of-type {\n",
       "        vertical-align: middle;\n",
       "    }\n",
       "\n",
       "    .dataframe tbody tr th {\n",
       "        vertical-align: top;\n",
       "    }\n",
       "\n",
       "    .dataframe thead th {\n",
       "        text-align: right;\n",
       "    }\n",
       "</style>\n",
       "<table border=\"1\" class=\"dataframe\">\n",
       "  <thead>\n",
       "    <tr style=\"text-align: right;\">\n",
       "      <th></th>\n",
       "      <th>Area Code</th>\n",
       "      <th>Cogs</th>\n",
       "      <th>DifferenceBetweenActualandTargetProfit</th>\n",
       "      <th>Date</th>\n",
       "      <th>Inventory Margin</th>\n",
       "      <th>Margin</th>\n",
       "      <th>Market_size</th>\n",
       "      <th>Market</th>\n",
       "      <th>Marketing</th>\n",
       "      <th>Product_line</th>\n",
       "      <th>...</th>\n",
       "      <th>Product</th>\n",
       "      <th>Profit</th>\n",
       "      <th>Sales</th>\n",
       "      <th>State</th>\n",
       "      <th>Target_cogs</th>\n",
       "      <th>Target_margin</th>\n",
       "      <th>Target_profit</th>\n",
       "      <th>Target_sales</th>\n",
       "      <th>Total_expenses</th>\n",
       "      <th>Type</th>\n",
       "    </tr>\n",
       "  </thead>\n",
       "  <tbody>\n",
       "    <tr>\n",
       "      <th>0</th>\n",
       "      <td>303</td>\n",
       "      <td>51</td>\n",
       "      <td>-35</td>\n",
       "      <td>10/1/2012</td>\n",
       "      <td>503</td>\n",
       "      <td>71</td>\n",
       "      <td>Major Market</td>\n",
       "      <td>Central</td>\n",
       "      <td>46</td>\n",
       "      <td>Leaves</td>\n",
       "      <td>...</td>\n",
       "      <td>Lemon</td>\n",
       "      <td>-5</td>\n",
       "      <td>122</td>\n",
       "      <td>Colorado</td>\n",
       "      <td>30</td>\n",
       "      <td>60</td>\n",
       "      <td>30</td>\n",
       "      <td>90</td>\n",
       "      <td>76</td>\n",
       "      <td>Decaf</td>\n",
       "    </tr>\n",
       "    <tr>\n",
       "      <th>1</th>\n",
       "      <td>970</td>\n",
       "      <td>52</td>\n",
       "      <td>-24</td>\n",
       "      <td>10/1/2012</td>\n",
       "      <td>405</td>\n",
       "      <td>71</td>\n",
       "      <td>Major Market</td>\n",
       "      <td>Central</td>\n",
       "      <td>17</td>\n",
       "      <td>Leaves</td>\n",
       "      <td>...</td>\n",
       "      <td>Mint</td>\n",
       "      <td>26</td>\n",
       "      <td>123</td>\n",
       "      <td>Colorado</td>\n",
       "      <td>30</td>\n",
       "      <td>60</td>\n",
       "      <td>50</td>\n",
       "      <td>90</td>\n",
       "      <td>45</td>\n",
       "      <td>Decaf</td>\n",
       "    </tr>\n",
       "    <tr>\n",
       "      <th>2</th>\n",
       "      <td>409</td>\n",
       "      <td>43</td>\n",
       "      <td>-22</td>\n",
       "      <td>10/2/2012</td>\n",
       "      <td>419</td>\n",
       "      <td>64</td>\n",
       "      <td>Major Market</td>\n",
       "      <td>South</td>\n",
       "      <td>13</td>\n",
       "      <td>Leaves</td>\n",
       "      <td>...</td>\n",
       "      <td>Lemon</td>\n",
       "      <td>28</td>\n",
       "      <td>107</td>\n",
       "      <td>Texas</td>\n",
       "      <td>30</td>\n",
       "      <td>60</td>\n",
       "      <td>50</td>\n",
       "      <td>90</td>\n",
       "      <td>36</td>\n",
       "      <td>Decaf</td>\n",
       "    </tr>\n",
       "    <tr>\n",
       "      <th>3</th>\n",
       "      <td>850</td>\n",
       "      <td>38</td>\n",
       "      <td>-15</td>\n",
       "      <td>10/3/2012</td>\n",
       "      <td>871</td>\n",
       "      <td>56</td>\n",
       "      <td>Major Market</td>\n",
       "      <td>East</td>\n",
       "      <td>10</td>\n",
       "      <td>Leaves</td>\n",
       "      <td>...</td>\n",
       "      <td>Darjeeling</td>\n",
       "      <td>35</td>\n",
       "      <td>94</td>\n",
       "      <td>Florida</td>\n",
       "      <td>40</td>\n",
       "      <td>60</td>\n",
       "      <td>50</td>\n",
       "      <td>100</td>\n",
       "      <td>21</td>\n",
       "      <td>Regular</td>\n",
       "    </tr>\n",
       "    <tr>\n",
       "      <th>4</th>\n",
       "      <td>562</td>\n",
       "      <td>72</td>\n",
       "      <td>6</td>\n",
       "      <td>10/4/2012</td>\n",
       "      <td>650</td>\n",
       "      <td>110</td>\n",
       "      <td>Major Market</td>\n",
       "      <td>West</td>\n",
       "      <td>23</td>\n",
       "      <td>Leaves</td>\n",
       "      <td>...</td>\n",
       "      <td>Green Tea</td>\n",
       "      <td>56</td>\n",
       "      <td>182</td>\n",
       "      <td>California</td>\n",
       "      <td>20</td>\n",
       "      <td>60</td>\n",
       "      <td>50</td>\n",
       "      <td>80</td>\n",
       "      <td>54</td>\n",
       "      <td>Regular</td>\n",
       "    </tr>\n",
       "  </tbody>\n",
       "</table>\n",
       "<p>5 rows × 21 columns</p>\n",
       "</div>"
      ],
      "text/plain": [
       "   Area Code  Cogs  DifferenceBetweenActualandTargetProfit       Date  \\\n",
       "0        303    51                                     -35  10/1/2012   \n",
       "1        970    52                                     -24  10/1/2012   \n",
       "2        409    43                                     -22  10/2/2012   \n",
       "3        850    38                                     -15  10/3/2012   \n",
       "4        562    72                                       6  10/4/2012   \n",
       "\n",
       "   Inventory Margin  Margin   Market_size   Market  Marketing Product_line  \\\n",
       "0               503      71  Major Market  Central         46       Leaves   \n",
       "1               405      71  Major Market  Central         17       Leaves   \n",
       "2               419      64  Major Market    South         13       Leaves   \n",
       "3               871      56  Major Market     East         10       Leaves   \n",
       "4               650     110  Major Market     West         23       Leaves   \n",
       "\n",
       "   ...     Product Profit  Sales       State Target_cogs  Target_margin  \\\n",
       "0  ...       Lemon     -5    122    Colorado          30             60   \n",
       "1  ...        Mint     26    123    Colorado          30             60   \n",
       "2  ...       Lemon     28    107       Texas          30             60   \n",
       "3  ...  Darjeeling     35     94     Florida          40             60   \n",
       "4  ...   Green Tea     56    182  California          20             60   \n",
       "\n",
       "   Target_profit  Target_sales   Total_expenses     Type  \n",
       "0             30             90              76    Decaf  \n",
       "1             50             90              45    Decaf  \n",
       "2             50             90              36    Decaf  \n",
       "3             50            100              21  Regular  \n",
       "4             50             80              54  Regular  \n",
       "\n",
       "[5 rows x 21 columns]"
      ]
     },
     "execution_count": 15,
     "metadata": {},
     "output_type": "execute_result"
    }
   ],
   "source": [
    "import pandas as pd\n",
    "df_coffe = pd.read_csv('Coffee_Chain_Sales .csv')\n",
    "df_coffe.head()"
   ]
  },
  {
   "cell_type": "code",
   "execution_count": 16,
   "id": "2a6d6d10",
   "metadata": {},
   "outputs": [
    {
     "name": "stdout",
     "output_type": "stream",
     "text": [
      "<class 'pandas.core.frame.DataFrame'>\n",
      "RangeIndex: 1062 entries, 0 to 1061\n",
      "Data columns (total 21 columns):\n",
      " #   Column                                  Non-Null Count  Dtype \n",
      "---  ------                                  --------------  ----- \n",
      " 0   Area Code                               1062 non-null   int64 \n",
      " 1   Cogs                                    1062 non-null   int64 \n",
      " 2   DifferenceBetweenActualandTargetProfit  1062 non-null   int64 \n",
      " 3   Date                                    1062 non-null   object\n",
      " 4   Inventory Margin                        1062 non-null   int64 \n",
      " 5   Margin                                  1062 non-null   int64 \n",
      " 6   Market_size                             1062 non-null   object\n",
      " 7   Market                                  1062 non-null   object\n",
      " 8   Marketing                               1062 non-null   int64 \n",
      " 9   Product_line                            1062 non-null   object\n",
      " 10  Product_type                            1062 non-null   object\n",
      " 11  Product                                 1062 non-null   object\n",
      " 12  Profit                                  1062 non-null   int64 \n",
      " 13  Sales                                   1062 non-null   int64 \n",
      " 14  State                                   1062 non-null   object\n",
      " 15  Target_cogs                             1062 non-null   int64 \n",
      " 16  Target_margin                           1062 non-null   int64 \n",
      " 17  Target_profit                           1062 non-null   int64 \n",
      " 18  Target_sales                            1062 non-null   int64 \n",
      " 19  Total_expenses                          1062 non-null   int64 \n",
      " 20  Type                                    1062 non-null   object\n",
      "dtypes: int64(13), object(8)\n",
      "memory usage: 174.4+ KB\n"
     ]
    }
   ],
   "source": [
    "df_coffe.info()"
   ]
  },
  {
   "cell_type": "markdown",
   "id": "ed0f2e7a",
   "metadata": {},
   "source": [
    "## DATABASE MONGODB"
   ]
  },
  {
   "cell_type": "code",
   "execution_count": 17,
   "id": "d515d8e0",
   "metadata": {},
   "outputs": [],
   "source": [
    "df_mongo = df_coffe[['Area Code', 'Market_size', 'Market', 'Product_line', 'Product_type', 'Product', 'State', 'Type']].drop_duplicates()"
   ]
  },
  {
   "cell_type": "code",
   "execution_count": 18,
   "id": "d1a00df3",
   "metadata": {},
   "outputs": [
    {
     "name": "stdout",
     "output_type": "stream",
     "text": [
      "   Area Code   Market_size   Market Product_line Product_type     Product  \\\n",
      "0        303  Major Market  Central       Leaves   Herbal Tea       Lemon   \n",
      "1        970  Major Market  Central       Leaves   Herbal Tea        Mint   \n",
      "2        409  Major Market    South       Leaves   Herbal Tea       Lemon   \n",
      "3        850  Major Market     East       Leaves          Tea  Darjeeling   \n",
      "4        562  Major Market     West       Leaves          Tea   Green Tea   \n",
      "\n",
      "        State     Type  \n",
      "0    Colorado    Decaf  \n",
      "1    Colorado    Decaf  \n",
      "2       Texas    Decaf  \n",
      "3     Florida  Regular  \n",
      "4  California  Regular  \n"
     ]
    }
   ],
   "source": [
    "print(df_mongo.head())"
   ]
  },
  {
   "cell_type": "code",
   "execution_count": 44,
   "id": "ba07669f",
   "metadata": {},
   "outputs": [
    {
     "name": "stdout",
     "output_type": "stream",
     "text": [
      "623 records berhasil dimasukkan ke MongoDB!\n"
     ]
    }
   ],
   "source": [
    "from pymongo import MongoClient\n",
    "\n",
    "client = MongoClient('localhost', 27017)\n",
    "\n",
    "db = client['cafe_db']\n",
    "collection = db['products']  # nama koleksi sesuai data\n",
    "\n",
    "# 3. Ubah DataFrame jadi list of dict\n",
    "records = df_mongo.to_dict(orient='records')\n",
    "\n",
    "# 4. Insert banyak dokumen sekaligus\n",
    "collection.insert_many(records)\n",
    "\n",
    "print(f\"{len(records)} records berhasil dimasukkan ke MongoDB!\")"
   ]
  },
  {
   "cell_type": "code",
   "execution_count": 45,
   "id": "eedfbb77",
   "metadata": {},
   "outputs": [
    {
     "name": "stdout",
     "output_type": "stream",
     "text": [
      "{'_id': ObjectId('682dd017f174d523f423143d'), 'Area Code': 303, 'Market_size': 'Major Market', 'Market': 'Central', 'Product_line': 'Leaves', 'Product_type': 'Herbal Tea', 'Product': 'Lemon', 'State': 'Colorado', 'Type': 'Decaf'}\n",
      "{'_id': ObjectId('682dd017f174d523f423143e'), 'Area Code': 970, 'Market_size': 'Major Market', 'Market': 'Central', 'Product_line': 'Leaves', 'Product_type': 'Herbal Tea', 'Product': 'Mint', 'State': 'Colorado', 'Type': 'Decaf'}\n",
      "{'_id': ObjectId('682dd017f174d523f423143f'), 'Area Code': 409, 'Market_size': 'Major Market', 'Market': 'South', 'Product_line': 'Leaves', 'Product_type': 'Herbal Tea', 'Product': 'Lemon', 'State': 'Texas', 'Type': 'Decaf'}\n",
      "{'_id': ObjectId('682dd017f174d523f4231440'), 'Area Code': 850, 'Market_size': 'Major Market', 'Market': 'East', 'Product_line': 'Leaves', 'Product_type': 'Tea', 'Product': 'Darjeeling', 'State': 'Florida', 'Type': 'Regular'}\n",
      "{'_id': ObjectId('682dd017f174d523f4231441'), 'Area Code': 562, 'Market_size': 'Major Market', 'Market': 'West', 'Product_line': 'Leaves', 'Product_type': 'Tea', 'Product': 'Green Tea', 'State': 'California', 'Type': 'Regular'}\n"
     ]
    }
   ],
   "source": [
    "for doc in collection.find().limit(5):\n",
    "    print(doc)"
   ]
  },
  {
   "cell_type": "code",
   "execution_count": 23,
   "id": "5de9b27e",
   "metadata": {},
   "outputs": [
    {
     "name": "stdout",
     "output_type": "stream",
     "text": [
      "{'_id': ObjectId('682dd017f174d523f423143d'), 'Area Code': 303, 'Market_size': 'Major Market', 'Market': 'Central', 'Product_line': 'Leaves', 'Product_type': 'Herbal Tea', 'Product': 'Lemon', 'State': 'Colorado', 'Type': 'Decaf'}\n",
      "{'_id': ObjectId('682dd017f174d523f423143e'), 'Area Code': 970, 'Market_size': 'Major Market', 'Market': 'Central', 'Product_line': 'Leaves', 'Product_type': 'Herbal Tea', 'Product': 'Mint', 'State': 'Colorado', 'Type': 'Decaf'}\n",
      "{'_id': ObjectId('682dd017f174d523f423146c'), 'Area Code': 970, 'Market_size': 'Major Market', 'Market': 'Central', 'Product_line': 'Leaves', 'Product_type': 'Herbal Tea', 'Product': 'Lemon', 'State': 'Colorado', 'Type': 'Decaf'}\n",
      "{'_id': ObjectId('682dd017f174d523f423146d'), 'Area Code': 303, 'Market_size': 'Major Market', 'Market': 'Central', 'Product_line': 'Leaves', 'Product_type': 'Herbal Tea', 'Product': 'Mint', 'State': 'Colorado', 'Type': 'Decaf'}\n",
      "{'_id': ObjectId('682dd017f174d523f423147d'), 'Area Code': 720, 'Market_size': 'Major Market', 'Market': 'Central', 'Product_line': 'Leaves', 'Product_type': 'Herbal Tea', 'Product': 'Lemon', 'State': 'Colorado', 'Type': 'Decaf'}\n",
      "{'_id': ObjectId('682dd017f174d523f423149b'), 'Area Code': 719, 'Market_size': 'Major Market', 'Market': 'Central', 'Product_line': 'Leaves', 'Product_type': 'Herbal Tea', 'Product': 'Lemon', 'State': 'Colorado', 'Type': 'Decaf'}\n",
      "{'_id': ObjectId('682dd017f174d523f423151b'), 'Area Code': 720, 'Market_size': 'Major Market', 'Market': 'Central', 'Product_line': 'Leaves', 'Product_type': 'Herbal Tea', 'Product': 'Mint', 'State': 'Colorado', 'Type': 'Decaf'}\n",
      "{'_id': ObjectId('682dd017f174d523f42315f8'), 'Area Code': 719, 'Market_size': 'Major Market', 'Market': 'Central', 'Product_line': 'Leaves', 'Product_type': 'Herbal Tea', 'Product': 'Chamomile', 'State': 'Colorado', 'Type': 'Decaf'}\n",
      "{'_id': ObjectId('682dd017f174d523f423160d'), 'Area Code': 970, 'Market_size': 'Major Market', 'Market': 'Central', 'Product_line': 'Leaves', 'Product_type': 'Herbal Tea', 'Product': 'Chamomile', 'State': 'Colorado', 'Type': 'Decaf'}\n",
      "{'_id': ObjectId('682dd017f174d523f4231622'), 'Area Code': 303, 'Market_size': 'Major Market', 'Market': 'Central', 'Product_line': 'Leaves', 'Product_type': 'Herbal Tea', 'Product': 'Chamomile', 'State': 'Colorado', 'Type': 'Decaf'}\n",
      "{'_id': ObjectId('682dd017f174d523f423162f'), 'Area Code': 720, 'Market_size': 'Major Market', 'Market': 'Central', 'Product_line': 'Leaves', 'Product_type': 'Herbal Tea', 'Product': 'Chamomile', 'State': 'Colorado', 'Type': 'Decaf'}\n"
     ]
    }
   ],
   "source": [
    "results = collection.find({\"Product_line\": \"Leaves\", \"Product_type\": \"Herbal Tea\", \"State\": \"Colorado\"})\n",
    "for doc in results:\n",
    "    print(doc)"
   ]
  },
  {
   "cell_type": "code",
   "execution_count": 38,
   "id": "da0f98a3",
   "metadata": {},
   "outputs": [],
   "source": [
    "from pymongo import MongoClient\n",
    "from datetime import datetime\n",
    "\n",
    "client = MongoClient()\n",
    "db = client['cafe_analytics']\n",
    "collection = db['sales']\n",
    "\n",
    "# Update field 'Date' dari string ke datetime untuk semua dokumen (sekali jalan aja)\n",
    "for doc in collection.find():\n",
    "    date_str = doc['Date']  # misal '10/1/2012'\n",
    "    date_obj = datetime.strptime(date_str, '%m/%d/%Y')\n",
    "    collection.update_one({'_id': doc['_id']}, {'$set': {'Date': date_obj}})"
   ]
  },
  {
   "cell_type": "markdown",
   "id": "6aaf3123",
   "metadata": {},
   "source": [
    "## DATABASE CASSANDRA"
   ]
  },
  {
   "cell_type": "code",
   "execution_count": 26,
   "id": "f3222e6b",
   "metadata": {},
   "outputs": [
    {
     "name": "stdout",
     "output_type": "stream",
     "text": [
      "<class 'pandas.core.frame.DataFrame'>\n",
      "RangeIndex: 1062 entries, 0 to 1061\n",
      "Data columns (total 21 columns):\n",
      " #   Column                                  Non-Null Count  Dtype \n",
      "---  ------                                  --------------  ----- \n",
      " 0   Area Code                               1062 non-null   int64 \n",
      " 1   Cogs                                    1062 non-null   int64 \n",
      " 2   DifferenceBetweenActualandTargetProfit  1062 non-null   int64 \n",
      " 3   Date                                    1062 non-null   object\n",
      " 4   Inventory Margin                        1062 non-null   int64 \n",
      " 5   Margin                                  1062 non-null   int64 \n",
      " 6   Market_size                             1062 non-null   object\n",
      " 7   Market                                  1062 non-null   object\n",
      " 8   Marketing                               1062 non-null   int64 \n",
      " 9   Product_line                            1062 non-null   object\n",
      " 10  Product_type                            1062 non-null   object\n",
      " 11  Product                                 1062 non-null   object\n",
      " 12  Profit                                  1062 non-null   int64 \n",
      " 13  Sales                                   1062 non-null   int64 \n",
      " 14  State                                   1062 non-null   object\n",
      " 15  Target_cogs                             1062 non-null   int64 \n",
      " 16  Target_margin                           1062 non-null   int64 \n",
      " 17  Target_profit                           1062 non-null   int64 \n",
      " 18  Target_sales                            1062 non-null   int64 \n",
      " 19  Total_expenses                          1062 non-null   int64 \n",
      " 20  Type                                    1062 non-null   object\n",
      "dtypes: int64(13), object(8)\n",
      "memory usage: 174.4+ KB\n"
     ]
    }
   ],
   "source": [
    "df_coffe.info()"
   ]
  },
  {
   "cell_type": "code",
   "execution_count": 29,
   "id": "aa332ae4",
   "metadata": {},
   "outputs": [],
   "source": [
    "df_cassandra = df_coffe[[\n",
    "    'Date', 'Sales', 'Cogs', 'Profit',\n",
    "    'Target_sales', 'Target_profit',\n",
    "    'Total_expenses', 'DifferenceBetweenActualandTargetProfit'\n",
    "]].copy()\n",
    "\n",
    "df_cassandra = df_cassandra.rename(columns={\n",
    "    'DifferenceBetweenActualandTargetProfit': 'difference'\n",
    "})"
   ]
  },
  {
   "cell_type": "code",
   "execution_count": 32,
   "id": "7dbf3735",
   "metadata": {},
   "outputs": [
    {
     "data": {
      "text/plain": [
       "<cassandra.cluster.ResultSet at 0x10c358d40>"
      ]
     },
     "execution_count": 32,
     "metadata": {},
     "output_type": "execute_result"
    }
   ],
   "source": [
    "from cassandra.cluster import Cluster\n",
    "\n",
    "# Connect ke cluster Cassandra\n",
    "cluster = Cluster(['127.0.0.1'])\n",
    "session = cluster.connect()\n",
    "\n",
    "# Buat keyspace\n",
    "session.execute(\"\"\"\n",
    "    CREATE KEYSPACE IF NOT EXISTS cafe_analytics\n",
    "    WITH replication = {'class': 'SimpleStrategy', 'replication_factor': 1}\n",
    "\"\"\")\n",
    "\n",
    "# Pakai keyspace yang baru dibuat\n",
    "session.set_keyspace('cafe_analytics')\n",
    "\n",
    "# Buat tabel (contoh)\n",
    "session.execute(\"\"\"\n",
    "    CREATE TABLE IF NOT EXISTS coffee_data (\n",
    "        id UUID PRIMARY KEY,\n",
    "        date text,\n",
    "        sales int,\n",
    "        cogs int,\n",
    "        profit int,\n",
    "        target_sales int,\n",
    "        target_profit int,\n",
    "        total_expenses int,\n",
    "        difference_profit int\n",
    "    )\n",
    "\"\"\")"
   ]
  },
  {
   "cell_type": "code",
   "execution_count": 34,
   "id": "259c251d",
   "metadata": {},
   "outputs": [],
   "source": [
    "import uuid\n",
    "\n",
    "insert_query = \"\"\"\n",
    "INSERT INTO coffee_data (id, date, sales, cogs, profit, target_sales, target_profit, total_expenses, difference_profit)\n",
    "VALUES (?, ?, ?, ?, ?, ?, ?, ?, ?)\n",
    "\"\"\"\n",
    "\n",
    "prepared = session.prepare(insert_query)\n",
    "\n",
    "for _, row in df_cassandra.iterrows():\n",
    "    session.execute(prepared, (\n",
    "        uuid.uuid4(),               # buat unique id\n",
    "        row['Date'],\n",
    "        row['Sales'],\n",
    "        row['Cogs'],\n",
    "        row['Profit'],\n",
    "        row['Target_sales'],\n",
    "        row['Target_profit'],\n",
    "        row['Total_expenses'],\n",
    "        row['difference']\n",
    "    ))\n"
   ]
  },
  {
   "cell_type": "code",
   "execution_count": 35,
   "id": "88c3fe7b",
   "metadata": {},
   "outputs": [
    {
     "name": "stdout",
     "output_type": "stream",
     "text": [
      "Row(id=UUID('9c91cdbf-8c15-4110-990e-26ae5ec1927a'), cogs=34, date='5/21/2013', difference_profit=5, profit=45, sales=91, target_profit=40, target_sales=80, total_expenses=21)\n",
      "Row(id=UUID('aa32aea1-5a88-4096-8dbb-bdde7800d34a'), cogs=86, date='11/18/2014', difference_profit=-2, profit=88, sales=210, target_profit=90, target_sales=200, total_expenses=36)\n",
      "Row(id=UUID('2b30edac-ba8e-4172-a611-e91693e503f9'), cogs=279, date='8/4/2014', difference_profit=21, profit=271, sales=699, target_profit=250, target_sales=620, total_expenses=149)\n",
      "Row(id=UUID('f71e3476-b1b2-40cb-8257-30404db66b41'), cogs=41, date='7/15/2013', difference_profit=10, profit=30, sales=107, target_profit=20, target_sales=70, total_expenses=36)\n",
      "Row(id=UUID('72aa731f-e447-47ee-baca-944392124486'), cogs=61, date='11/4/2013', difference_profit=-9, profit=1, sales=157, target_profit=10, target_sales=110, total_expenses=85)\n"
     ]
    }
   ],
   "source": [
    "rows = session.execute(\"SELECT * FROM coffee_data LIMIT 5\")\n",
    "for row in rows:\n",
    "    print(row)"
   ]
  },
  {
   "cell_type": "code",
   "execution_count": 3,
   "id": "13352fc0",
   "metadata": {},
   "outputs": [],
   "source": [
    "import pymongo\n",
    "\n",
    "myclient = pymongo.MongoClient(\"mongodb://localhost:27017/\")\n",
    "\n",
    "mydb = myclient[\"database1\"]"
   ]
  },
  {
   "cell_type": "code",
   "execution_count": 4,
   "id": "2aeda91c",
   "metadata": {},
   "outputs": [],
   "source": [
    "import pymongo\n",
    "\n",
    "myclient = pymongo.MongoClient(\"mongodb://localhost:27017/\")\n",
    "mydb = myclient[\"database1\"]\n",
    "\n",
    "mycol = mydb[\"customers\"]"
   ]
  },
  {
   "cell_type": "code",
   "execution_count": 5,
   "id": "d87bc5a0",
   "metadata": {},
   "outputs": [
    {
     "name": "stdout",
     "output_type": "stream",
     "text": [
      "[]\n"
     ]
    }
   ],
   "source": [
    "print(mydb.list_collection_names())"
   ]
  },
  {
   "cell_type": "code",
   "execution_count": 46,
   "id": "51d159cf",
   "metadata": {},
   "outputs": [
    {
     "name": "stdout",
     "output_type": "stream",
     "text": [
      "{'_id': ObjectId('682dd017f174d523f423143d'), 'Area Code': 303, 'Market_size': 'Major Market', 'Market': 'Central', 'Product_line': 'Leaves', 'Product_type': 'Herbal Tea', 'Product': 'Lemon', 'State': 'Colorado', 'Type': 'Decaf'}\n",
      "{'_id': ObjectId('682dd017f174d523f423143e'), 'Area Code': 970, 'Market_size': 'Major Market', 'Market': 'Central', 'Product_line': 'Leaves', 'Product_type': 'Herbal Tea', 'Product': 'Mint', 'State': 'Colorado', 'Type': 'Decaf'}\n",
      "{'_id': ObjectId('682dd017f174d523f423143f'), 'Area Code': 409, 'Market_size': 'Major Market', 'Market': 'South', 'Product_line': 'Leaves', 'Product_type': 'Herbal Tea', 'Product': 'Lemon', 'State': 'Texas', 'Type': 'Decaf'}\n",
      "{'_id': ObjectId('682dd017f174d523f4231440'), 'Area Code': 850, 'Market_size': 'Major Market', 'Market': 'East', 'Product_line': 'Leaves', 'Product_type': 'Tea', 'Product': 'Darjeeling', 'State': 'Florida', 'Type': 'Regular'}\n",
      "{'_id': ObjectId('682dd017f174d523f4231441'), 'Area Code': 562, 'Market_size': 'Major Market', 'Market': 'West', 'Product_line': 'Leaves', 'Product_type': 'Tea', 'Product': 'Green Tea', 'State': 'California', 'Type': 'Regular'}\n"
     ]
    }
   ],
   "source": [
    "for doc in collection.find().limit(5):\n",
    "    print(doc)\n"
   ]
  },
  {
   "cell_type": "code",
   "execution_count": null,
   "id": "b52c00d6",
   "metadata": {
    "vscode": {
     "languageId": "groovy"
    }
   },
   "outputs": [
    {
     "name": "stdout",
     "output_type": "stream",
     "text": [
      "{'_id': ObjectId('682dd017f174d523f423143d'), 'Area Code': 303, 'Market_size': 'Major Market', 'Market': 'Central', 'Product_line': 'Leaves', 'Product_type': 'Herbal Tea', 'Product': 'Lemon', 'State': 'Colorado', 'Type': 'Decaf'}\n",
      "{'_id': ObjectId('682dd017f174d523f423146c'), 'Area Code': 970, 'Market_size': 'Major Market', 'Market': 'Central', 'Product_line': 'Leaves', 'Product_type': 'Herbal Tea', 'Product': 'Lemon', 'State': 'Colorado', 'Type': 'Decaf'}\n",
      "{'_id': ObjectId('682dd017f174d523f423147d'), 'Area Code': 720, 'Market_size': 'Major Market', 'Market': 'Central', 'Product_line': 'Leaves', 'Product_type': 'Herbal Tea', 'Product': 'Lemon', 'State': 'Colorado', 'Type': 'Decaf'}\n"
     ]
    }
   ],
   "source": [
    "pipeline = [\n",
    "    {\n",
    "        '$match': {\n",
    "            'Product': 'Lemon',\n",
    "            'Product_type': 'Herbal Tea',\n",
    "            'State': 'Colorado'\n",
    "        }\n",
    "    },\n",
    "    {\n",
    "        '$group': {\n",
    "            '_id': None,\n",
    "            'totalSales': {'$sum': '$Sales'}\n",
    "        }\n",
    "    }\n",
    "]\n",
    "\n",
    "result = list(collection.aggregate(pipeline))\n",
    "if result:\n",
    "    print(f\"Total penjualan Lemon Herbal Tea di Colorado: {result[0]['totalSales']}\")\n",
    "else:\n",
    "    print(\"Data tidak ditemukan atau Sales kosong\")"
   ]
  },
  {
   "cell_type": "code",
   "execution_count": 56,
   "id": "f140d87c",
   "metadata": {},
   "outputs": [
    {
     "name": "stdout",
     "output_type": "stream",
     "text": [
      "Row(id=UUID('9c91cdbf-8c15-4110-990e-26ae5ec1927a'), cogs=34, date='5/21/2013', difference_profit=5, profit=45, sales=91, target_profit=40, target_sales=80, total_expenses=21)\n",
      "Row(id=UUID('aa32aea1-5a88-4096-8dbb-bdde7800d34a'), cogs=86, date='11/18/2014', difference_profit=-2, profit=88, sales=210, target_profit=90, target_sales=200, total_expenses=36)\n",
      "Row(id=UUID('2b30edac-ba8e-4172-a611-e91693e503f9'), cogs=279, date='8/4/2014', difference_profit=21, profit=271, sales=699, target_profit=250, target_sales=620, total_expenses=149)\n",
      "Row(id=UUID('f71e3476-b1b2-40cb-8257-30404db66b41'), cogs=41, date='7/15/2013', difference_profit=10, profit=30, sales=107, target_profit=20, target_sales=70, total_expenses=36)\n",
      "Row(id=UUID('72aa731f-e447-47ee-baca-944392124486'), cogs=61, date='11/4/2013', difference_profit=-9, profit=1, sales=157, target_profit=10, target_sales=110, total_expenses=85)\n"
     ]
    }
   ],
   "source": [
    "from cassandra.cluster import Cluster\n",
    "\n",
    "cluster = Cluster(['127.0.0.1'])\n",
    "session = cluster.connect('cafe_analytics')  # connect langsung ke keyspace yang benar\n",
    "\n",
    "query = \"\"\"\n",
    "SELECT * FROM coffee_data LIMIT 5\n",
    "\"\"\"\n",
    "\n",
    "rows = session.execute(query)\n",
    "for row in rows:\n",
    "    print(row)"
   ]
  },
  {
   "cell_type": "code",
   "execution_count": null,
   "id": "31b5a482",
   "metadata": {},
   "outputs": [],
   "source": []
  },
  {
   "cell_type": "code",
   "execution_count": 61,
   "id": "daad625d",
   "metadata": {},
   "outputs": [
    {
     "name": "stdout",
     "output_type": "stream",
     "text": [
      "Total sales: 202895\n",
      "Total profit: 64311\n"
     ]
    }
   ],
   "source": [
    "query = \"SELECT sales, profit FROM coffee_data\"\n",
    "rows = session.execute(query)\n",
    "\n",
    "total_sales = 0\n",
    "total_profit = 0\n",
    "for row in rows:\n",
    "    total_sales += row.sales\n",
    "    total_profit += row.profit\n",
    "\n",
    "print(f\"Total sales: {total_sales}\")\n",
    "print(f\"Total profit: {total_profit}\")\n"
   ]
  },
  {
   "cell_type": "code",
   "execution_count": 62,
   "id": "1b349776",
   "metadata": {},
   "outputs": [
    {
     "name": "stdout",
     "output_type": "stream",
     "text": [
      "Total sales 2013: 38898\n",
      "Total profit 2013: 9484\n"
     ]
    }
   ],
   "source": [
    "query = \"SELECT sales, profit, date FROM coffee_data\"\n",
    "rows = session.execute(query)\n",
    "\n",
    "total_sales_2013 = 0\n",
    "total_profit_2013 = 0\n",
    "for row in rows:\n",
    "    if '2013' in row.date:\n",
    "        total_sales_2013 += row.sales\n",
    "        total_profit_2013 += row.profit\n",
    "\n",
    "print(f\"Total sales 2013: {total_sales_2013}\")\n",
    "print(f\"Total profit 2013: {total_profit_2013}\")"
   ]
  },
  {
   "cell_type": "code",
   "execution_count": 63,
   "id": "47d49885",
   "metadata": {},
   "outputs": [
    {
     "name": "stdout",
     "output_type": "stream",
     "text": [
      "Average profit per transaction: 60.56\n"
     ]
    }
   ],
   "source": [
    "query = \"SELECT profit FROM coffee_data\"\n",
    "rows = session.execute(query)\n",
    "\n",
    "total_profit = 0\n",
    "count = 0\n",
    "for row in rows:\n",
    "    total_profit += row.profit\n",
    "    count += 1\n",
    "\n",
    "average_profit = total_profit / count if count > 0 else 0\n",
    "print(f\"Average profit per transaction: {average_profit:.2f}\")\n"
   ]
  },
  {
   "cell_type": "code",
   "execution_count": 64,
   "id": "351d772e",
   "metadata": {},
   "outputs": [
    {
     "name": "stdout",
     "output_type": "stream",
     "text": [
      "Total difference profit: 411\n"
     ]
    }
   ],
   "source": [
    "query = \"SELECT difference_profit FROM coffee_data\"\n",
    "rows = session.execute(query)\n",
    "\n",
    "total_difference = 0\n",
    "for row in rows:\n",
    "    total_difference += row.difference_profit\n",
    "\n",
    "print(f\"Total difference profit: {total_difference}\")\n"
   ]
  },
  {
   "cell_type": "code",
   "execution_count": 65,
   "id": "faaa2141",
   "metadata": {},
   "outputs": [
    {
     "name": "stdout",
     "output_type": "stream",
     "text": [
      "Year 2013: Total Sales = 38898\n",
      "Year 2014: Total Sales = 84982\n",
      "Year 2015: Total Sales = 68154\n",
      "Year 2012: Total Sales = 10861\n"
     ]
    }
   ],
   "source": [
    "query = \"SELECT sales, date FROM coffee_data\"\n",
    "rows = session.execute(query)\n",
    "\n",
    "sales_per_year = {}\n",
    "\n",
    "for row in rows:\n",
    "    year = row.date.split('/')[-1]  # asumsikan format 'm/d/yyyy'\n",
    "    sales_per_year[year] = sales_per_year.get(year, 0) + row.sales\n",
    "\n",
    "for year, total_sales in sales_per_year.items():\n",
    "    print(f\"Year {year}: Total Sales = {total_sales}\")\n"
   ]
  },
  {
   "cell_type": "code",
   "execution_count": 66,
   "id": "befa42ff",
   "metadata": {},
   "outputs": [
    {
     "name": "stdout",
     "output_type": "stream",
     "text": [
      "18/2014: Sales = 2296, Profit = 645\n",
      "4/2014: Sales = 2877, Profit = 1028\n",
      "24/2014: Sales = 2595, Profit = 652\n",
      "2/2014: Sales = 2889, Profit = 957\n",
      "1/2014: Sales = 2808, Profit = 1123\n",
      "23/2014: Sales = 3461, Profit = 1098\n",
      "12/2014: Sales = 3276, Profit = 1097\n",
      "10/2014: Sales = 2915, Profit = 994\n",
      "26/2014: Sales = 2293, Profit = 957\n",
      "3/2014: Sales = 2100, Profit = 595\n",
      "22/2014: Sales = 2165, Profit = 892\n",
      "28/2014: Sales = 2263, Profit = 660\n",
      "21/2014: Sales = 3562, Profit = 1287\n",
      "7/2014: Sales = 2260, Profit = 791\n",
      "5/2014: Sales = 3015, Profit = 1493\n",
      "15/2014: Sales = 2921, Profit = 1155\n",
      "9/2014: Sales = 2771, Profit = 962\n",
      "17/2014: Sales = 3033, Profit = 860\n",
      "11/2014: Sales = 2446, Profit = 829\n",
      "20/2014: Sales = 4131, Profit = 1881\n",
      "16/2014: Sales = 2957, Profit = 1308\n",
      "19/2014: Sales = 2815, Profit = 927\n",
      "6/2014: Sales = 2391, Profit = 535\n",
      "13/2014: Sales = 2013, Profit = 445\n",
      "8/2014: Sales = 2326, Profit = 383\n",
      "31/2014: Sales = 1773, Profit = 894\n",
      "14/2014: Sales = 2729, Profit = 1436\n",
      "29/2014: Sales = 2381, Profit = 817\n",
      "25/2014: Sales = 3512, Profit = 1496\n",
      "27/2014: Sales = 3198, Profit = 1114\n",
      "30/2014: Sales = 2810, Profit = 1069\n"
     ]
    }
   ],
   "source": [
    "query = \"SELECT sales, profit, date FROM coffee_data\"\n",
    "rows = session.execute(query)\n",
    "\n",
    "sales_profit_per_month = {}\n",
    "\n",
    "for row in rows:\n",
    "    month_year = '/'.join(row.date.split('/')[-2:])  # ambil mm/yyyy\n",
    "    if month_year.endswith('2014'):\n",
    "        if month_year not in sales_profit_per_month:\n",
    "            sales_profit_per_month[month_year] = {'sales': 0, 'profit': 0}\n",
    "        sales_profit_per_month[month_year]['sales'] += row.sales\n",
    "        sales_profit_per_month[month_year]['profit'] += row.profit\n",
    "\n",
    "for month_year, vals in sales_profit_per_month.items():\n",
    "    print(f\"{month_year}: Sales = {vals['sales']}, Profit = {vals['profit']}\")\n"
   ]
  },
  {
   "cell_type": "markdown",
   "id": "9f78ce5c",
   "metadata": {},
   "source": [
    "## 2 DATABASE"
   ]
  },
  {
   "cell_type": "code",
   "execution_count": null,
   "id": "d71f7192",
   "metadata": {},
   "outputs": [
    {
     "data": {
      "text/plain": [
       "InsertManyResult([ObjectId('682ddb4ff174d523f4231923'), ObjectId('682ddb4ff174d523f4231924'), ObjectId('682ddb4ff174d523f4231925'), ObjectId('682ddb4ff174d523f4231926'), ObjectId('682ddb4ff174d523f4231927'), ObjectId('682ddb4ff174d523f4231928'), ObjectId('682ddb4ff174d523f4231929'), ObjectId('682ddb4ff174d523f423192a'), ObjectId('682ddb4ff174d523f423192b'), ObjectId('682ddb4ff174d523f423192c'), ObjectId('682ddb4ff174d523f423192d'), ObjectId('682ddb4ff174d523f423192e'), ObjectId('682ddb4ff174d523f423192f'), ObjectId('682ddb4ff174d523f4231930'), ObjectId('682ddb4ff174d523f4231931'), ObjectId('682ddb4ff174d523f4231932'), ObjectId('682ddb4ff174d523f4231933'), ObjectId('682ddb4ff174d523f4231934'), ObjectId('682ddb4ff174d523f4231935'), ObjectId('682ddb4ff174d523f4231936'), ObjectId('682ddb4ff174d523f4231937'), ObjectId('682ddb4ff174d523f4231938'), ObjectId('682ddb4ff174d523f4231939'), ObjectId('682ddb4ff174d523f423193a'), ObjectId('682ddb4ff174d523f423193b'), ObjectId('682ddb4ff174d523f423193c'), ObjectId('682ddb4ff174d523f423193d'), ObjectId('682ddb4ff174d523f423193e'), ObjectId('682ddb4ff174d523f423193f'), ObjectId('682ddb4ff174d523f4231940'), ObjectId('682ddb4ff174d523f4231941'), ObjectId('682ddb4ff174d523f4231942'), ObjectId('682ddb4ff174d523f4231943'), ObjectId('682ddb4ff174d523f4231944'), ObjectId('682ddb4ff174d523f4231945'), ObjectId('682ddb4ff174d523f4231946'), ObjectId('682ddb4ff174d523f4231947'), ObjectId('682ddb4ff174d523f4231948'), ObjectId('682ddb4ff174d523f4231949'), ObjectId('682ddb4ff174d523f423194a'), ObjectId('682ddb4ff174d523f423194b'), ObjectId('682ddb4ff174d523f423194c'), ObjectId('682ddb4ff174d523f423194d'), ObjectId('682ddb4ff174d523f423194e'), ObjectId('682ddb4ff174d523f423194f'), ObjectId('682ddb4ff174d523f4231950'), ObjectId('682ddb4ff174d523f4231951'), ObjectId('682ddb4ff174d523f4231952'), ObjectId('682ddb4ff174d523f4231953'), ObjectId('682ddb4ff174d523f4231954'), ObjectId('682ddb4ff174d523f4231955'), ObjectId('682ddb4ff174d523f4231956'), ObjectId('682ddb4ff174d523f4231957'), ObjectId('682ddb4ff174d523f4231958'), ObjectId('682ddb4ff174d523f4231959'), ObjectId('682ddb4ff174d523f423195a'), ObjectId('682ddb4ff174d523f423195b'), ObjectId('682ddb4ff174d523f423195c'), ObjectId('682ddb4ff174d523f423195d'), ObjectId('682ddb4ff174d523f423195e'), ObjectId('682ddb4ff174d523f423195f'), ObjectId('682ddb4ff174d523f4231960'), ObjectId('682ddb4ff174d523f4231961'), ObjectId('682ddb4ff174d523f4231962'), ObjectId('682ddb4ff174d523f4231963'), ObjectId('682ddb4ff174d523f4231964'), ObjectId('682ddb4ff174d523f4231965'), ObjectId('682ddb4ff174d523f4231966'), ObjectId('682ddb4ff174d523f4231967'), ObjectId('682ddb4ff174d523f4231968'), ObjectId('682ddb4ff174d523f4231969'), ObjectId('682ddb4ff174d523f423196a'), ObjectId('682ddb4ff174d523f423196b'), ObjectId('682ddb4ff174d523f423196c'), ObjectId('682ddb4ff174d523f423196d'), ObjectId('682ddb4ff174d523f423196e'), ObjectId('682ddb4ff174d523f423196f'), ObjectId('682ddb4ff174d523f4231970'), ObjectId('682ddb4ff174d523f4231971'), ObjectId('682ddb4ff174d523f4231972'), ObjectId('682ddb4ff174d523f4231973'), ObjectId('682ddb4ff174d523f4231974'), ObjectId('682ddb4ff174d523f4231975'), ObjectId('682ddb4ff174d523f4231976'), ObjectId('682ddb4ff174d523f4231977'), ObjectId('682ddb4ff174d523f4231978'), ObjectId('682ddb4ff174d523f4231979'), ObjectId('682ddb4ff174d523f423197a'), ObjectId('682ddb4ff174d523f423197b'), ObjectId('682ddb4ff174d523f423197c'), ObjectId('682ddb4ff174d523f423197d'), ObjectId('682ddb4ff174d523f423197e'), ObjectId('682ddb4ff174d523f423197f'), ObjectId('682ddb4ff174d523f4231980'), ObjectId('682ddb4ff174d523f4231981'), ObjectId('682ddb4ff174d523f4231982'), ObjectId('682ddb4ff174d523f4231983'), ObjectId('682ddb4ff174d523f4231984'), ObjectId('682ddb4ff174d523f4231985'), ObjectId('682ddb4ff174d523f4231986'), ObjectId('682ddb4ff174d523f4231987'), ObjectId('682ddb4ff174d523f4231988'), ObjectId('682ddb4ff174d523f4231989'), ObjectId('682ddb4ff174d523f423198a'), ObjectId('682ddb4ff174d523f423198b'), ObjectId('682ddb4ff174d523f423198c'), ObjectId('682ddb4ff174d523f423198d'), ObjectId('682ddb4ff174d523f423198e'), ObjectId('682ddb4ff174d523f423198f'), ObjectId('682ddb4ff174d523f4231990'), ObjectId('682ddb4ff174d523f4231991'), ObjectId('682ddb4ff174d523f4231992'), ObjectId('682ddb4ff174d523f4231993'), ObjectId('682ddb4ff174d523f4231994'), ObjectId('682ddb4ff174d523f4231995'), ObjectId('682ddb4ff174d523f4231996'), ObjectId('682ddb4ff174d523f4231997'), ObjectId('682ddb4ff174d523f4231998'), ObjectId('682ddb4ff174d523f4231999'), ObjectId('682ddb4ff174d523f423199a'), ObjectId('682ddb4ff174d523f423199b'), ObjectId('682ddb4ff174d523f423199c'), ObjectId('682ddb4ff174d523f423199d'), ObjectId('682ddb4ff174d523f423199e'), ObjectId('682ddb4ff174d523f423199f'), ObjectId('682ddb4ff174d523f42319a0'), ObjectId('682ddb4ff174d523f42319a1'), ObjectId('682ddb4ff174d523f42319a2'), ObjectId('682ddb4ff174d523f42319a3'), ObjectId('682ddb4ff174d523f42319a4'), ObjectId('682ddb4ff174d523f42319a5'), ObjectId('682ddb4ff174d523f42319a6'), ObjectId('682ddb4ff174d523f42319a7'), ObjectId('682ddb4ff174d523f42319a8'), ObjectId('682ddb4ff174d523f42319a9'), ObjectId('682ddb4ff174d523f42319aa'), ObjectId('682ddb4ff174d523f42319ab'), ObjectId('682ddb4ff174d523f42319ac'), ObjectId('682ddb4ff174d523f42319ad'), ObjectId('682ddb4ff174d523f42319ae'), ObjectId('682ddb4ff174d523f42319af'), ObjectId('682ddb4ff174d523f42319b0'), ObjectId('682ddb4ff174d523f42319b1'), ObjectId('682ddb4ff174d523f42319b2'), ObjectId('682ddb4ff174d523f42319b3'), ObjectId('682ddb4ff174d523f42319b4'), ObjectId('682ddb4ff174d523f42319b5'), ObjectId('682ddb4ff174d523f42319b6'), ObjectId('682ddb4ff174d523f42319b7'), ObjectId('682ddb4ff174d523f42319b8'), ObjectId('682ddb4ff174d523f42319b9'), ObjectId('682ddb4ff174d523f42319ba'), ObjectId('682ddb4ff174d523f42319bb'), ObjectId('682ddb4ff174d523f42319bc'), ObjectId('682ddb4ff174d523f42319bd'), ObjectId('682ddb4ff174d523f42319be'), ObjectId('682ddb4ff174d523f42319bf'), ObjectId('682ddb4ff174d523f42319c0'), ObjectId('682ddb4ff174d523f42319c1'), ObjectId('682ddb4ff174d523f42319c2'), ObjectId('682ddb4ff174d523f42319c3'), ObjectId('682ddb4ff174d523f42319c4'), ObjectId('682ddb4ff174d523f42319c5'), ObjectId('682ddb4ff174d523f42319c6'), ObjectId('682ddb4ff174d523f42319c7'), ObjectId('682ddb4ff174d523f42319c8'), ObjectId('682ddb4ff174d523f42319c9'), ObjectId('682ddb4ff174d523f42319ca'), ObjectId('682ddb4ff174d523f42319cb'), ObjectId('682ddb4ff174d523f42319cc'), ObjectId('682ddb4ff174d523f42319cd'), ObjectId('682ddb4ff174d523f42319ce'), ObjectId('682ddb4ff174d523f42319cf'), ObjectId('682ddb4ff174d523f42319d0'), ObjectId('682ddb4ff174d523f42319d1'), ObjectId('682ddb4ff174d523f42319d2'), ObjectId('682ddb4ff174d523f42319d3'), ObjectId('682ddb4ff174d523f42319d4'), ObjectId('682ddb4ff174d523f42319d5'), ObjectId('682ddb4ff174d523f42319d6'), ObjectId('682ddb4ff174d523f42319d7'), ObjectId('682ddb4ff174d523f42319d8'), ObjectId('682ddb4ff174d523f42319d9'), ObjectId('682ddb4ff174d523f42319da'), ObjectId('682ddb4ff174d523f42319db'), ObjectId('682ddb4ff174d523f42319dc'), ObjectId('682ddb4ff174d523f42319dd'), ObjectId('682ddb4ff174d523f42319de'), ObjectId('682ddb4ff174d523f42319df'), ObjectId('682ddb4ff174d523f42319e0'), ObjectId('682ddb4ff174d523f42319e1'), ObjectId('682ddb4ff174d523f42319e2'), ObjectId('682ddb4ff174d523f42319e3'), ObjectId('682ddb4ff174d523f42319e4'), ObjectId('682ddb4ff174d523f42319e5'), ObjectId('682ddb4ff174d523f42319e6'), ObjectId('682ddb4ff174d523f42319e7'), ObjectId('682ddb4ff174d523f42319e8'), ObjectId('682ddb4ff174d523f42319e9'), ObjectId('682ddb4ff174d523f42319ea'), ObjectId('682ddb4ff174d523f42319eb'), ObjectId('682ddb4ff174d523f42319ec'), ObjectId('682ddb4ff174d523f42319ed'), ObjectId('682ddb4ff174d523f42319ee'), ObjectId('682ddb4ff174d523f42319ef'), ObjectId('682ddb4ff174d523f42319f0'), ObjectId('682ddb4ff174d523f42319f1'), ObjectId('682ddb4ff174d523f42319f2'), ObjectId('682ddb4ff174d523f42319f3'), ObjectId('682ddb4ff174d523f42319f4'), ObjectId('682ddb4ff174d523f42319f5'), ObjectId('682ddb4ff174d523f42319f6'), ObjectId('682ddb4ff174d523f42319f7'), ObjectId('682ddb4ff174d523f42319f8'), ObjectId('682ddb4ff174d523f42319f9'), ObjectId('682ddb4ff174d523f42319fa'), ObjectId('682ddb4ff174d523f42319fb'), ObjectId('682ddb4ff174d523f42319fc'), ObjectId('682ddb4ff174d523f42319fd'), ObjectId('682ddb4ff174d523f42319fe'), ObjectId('682ddb4ff174d523f42319ff'), ObjectId('682ddb4ff174d523f4231a00'), ObjectId('682ddb4ff174d523f4231a01'), ObjectId('682ddb4ff174d523f4231a02'), ObjectId('682ddb4ff174d523f4231a03'), ObjectId('682ddb4ff174d523f4231a04'), ObjectId('682ddb4ff174d523f4231a05'), ObjectId('682ddb4ff174d523f4231a06'), ObjectId('682ddb4ff174d523f4231a07'), ObjectId('682ddb4ff174d523f4231a08'), ObjectId('682ddb4ff174d523f4231a09'), ObjectId('682ddb4ff174d523f4231a0a'), ObjectId('682ddb4ff174d523f4231a0b'), ObjectId('682ddb4ff174d523f4231a0c'), ObjectId('682ddb4ff174d523f4231a0d'), ObjectId('682ddb4ff174d523f4231a0e'), ObjectId('682ddb4ff174d523f4231a0f'), ObjectId('682ddb4ff174d523f4231a10'), ObjectId('682ddb4ff174d523f4231a11'), ObjectId('682ddb4ff174d523f4231a12'), ObjectId('682ddb4ff174d523f4231a13'), ObjectId('682ddb4ff174d523f4231a14'), ObjectId('682ddb4ff174d523f4231a15'), ObjectId('682ddb4ff174d523f4231a16'), ObjectId('682ddb4ff174d523f4231a17'), ObjectId('682ddb4ff174d523f4231a18'), ObjectId('682ddb4ff174d523f4231a19'), ObjectId('682ddb4ff174d523f4231a1a'), ObjectId('682ddb4ff174d523f4231a1b'), ObjectId('682ddb4ff174d523f4231a1c'), ObjectId('682ddb4ff174d523f4231a1d'), ObjectId('682ddb4ff174d523f4231a1e'), ObjectId('682ddb4ff174d523f4231a1f'), ObjectId('682ddb4ff174d523f4231a20'), ObjectId('682ddb4ff174d523f4231a21'), ObjectId('682ddb4ff174d523f4231a22'), ObjectId('682ddb4ff174d523f4231a23'), ObjectId('682ddb4ff174d523f4231a24'), ObjectId('682ddb4ff174d523f4231a25'), ObjectId('682ddb4ff174d523f4231a26'), ObjectId('682ddb4ff174d523f4231a27'), ObjectId('682ddb4ff174d523f4231a28'), ObjectId('682ddb4ff174d523f4231a29'), ObjectId('682ddb4ff174d523f4231a2a'), ObjectId('682ddb4ff174d523f4231a2b'), ObjectId('682ddb4ff174d523f4231a2c'), ObjectId('682ddb4ff174d523f4231a2d'), ObjectId('682ddb4ff174d523f4231a2e'), ObjectId('682ddb4ff174d523f4231a2f'), ObjectId('682ddb4ff174d523f4231a30'), ObjectId('682ddb4ff174d523f4231a31'), ObjectId('682ddb4ff174d523f4231a32'), ObjectId('682ddb4ff174d523f4231a33'), ObjectId('682ddb4ff174d523f4231a34'), ObjectId('682ddb4ff174d523f4231a35'), ObjectId('682ddb4ff174d523f4231a36'), ObjectId('682ddb4ff174d523f4231a37'), ObjectId('682ddb4ff174d523f4231a38'), ObjectId('682ddb4ff174d523f4231a39'), ObjectId('682ddb4ff174d523f4231a3a'), ObjectId('682ddb4ff174d523f4231a3b'), ObjectId('682ddb4ff174d523f4231a3c'), ObjectId('682ddb4ff174d523f4231a3d'), ObjectId('682ddb4ff174d523f4231a3e'), ObjectId('682ddb4ff174d523f4231a3f'), ObjectId('682ddb4ff174d523f4231a40'), ObjectId('682ddb4ff174d523f4231a41'), ObjectId('682ddb4ff174d523f4231a42'), ObjectId('682ddb4ff174d523f4231a43'), ObjectId('682ddb4ff174d523f4231a44'), ObjectId('682ddb4ff174d523f4231a45'), ObjectId('682ddb4ff174d523f4231a46'), ObjectId('682ddb4ff174d523f4231a47'), ObjectId('682ddb4ff174d523f4231a48'), ObjectId('682ddb4ff174d523f4231a49'), ObjectId('682ddb4ff174d523f4231a4a'), ObjectId('682ddb4ff174d523f4231a4b'), ObjectId('682ddb4ff174d523f4231a4c'), ObjectId('682ddb4ff174d523f4231a4d'), ObjectId('682ddb4ff174d523f4231a4e'), ObjectId('682ddb4ff174d523f4231a4f'), ObjectId('682ddb4ff174d523f4231a50'), ObjectId('682ddb4ff174d523f4231a51'), ObjectId('682ddb4ff174d523f4231a52'), ObjectId('682ddb4ff174d523f4231a53'), ObjectId('682ddb4ff174d523f4231a54'), ObjectId('682ddb4ff174d523f4231a55'), ObjectId('682ddb4ff174d523f4231a56'), ObjectId('682ddb4ff174d523f4231a57'), ObjectId('682ddb4ff174d523f4231a58'), ObjectId('682ddb4ff174d523f4231a59'), ObjectId('682ddb4ff174d523f4231a5a'), ObjectId('682ddb4ff174d523f4231a5b'), ObjectId('682ddb4ff174d523f4231a5c'), ObjectId('682ddb4ff174d523f4231a5d'), ObjectId('682ddb4ff174d523f4231a5e'), ObjectId('682ddb4ff174d523f4231a5f'), ObjectId('682ddb4ff174d523f4231a60'), ObjectId('682ddb4ff174d523f4231a61'), ObjectId('682ddb4ff174d523f4231a62'), ObjectId('682ddb4ff174d523f4231a63'), ObjectId('682ddb4ff174d523f4231a64'), ObjectId('682ddb4ff174d523f4231a65'), ObjectId('682ddb4ff174d523f4231a66'), ObjectId('682ddb4ff174d523f4231a67'), ObjectId('682ddb4ff174d523f4231a68'), ObjectId('682ddb4ff174d523f4231a69'), ObjectId('682ddb4ff174d523f4231a6a'), ObjectId('682ddb4ff174d523f4231a6b'), ObjectId('682ddb4ff174d523f4231a6c'), ObjectId('682ddb4ff174d523f4231a6d'), ObjectId('682ddb4ff174d523f4231a6e'), ObjectId('682ddb4ff174d523f4231a6f'), ObjectId('682ddb4ff174d523f4231a70'), ObjectId('682ddb4ff174d523f4231a71'), ObjectId('682ddb4ff174d523f4231a72'), ObjectId('682ddb4ff174d523f4231a73'), ObjectId('682ddb4ff174d523f4231a74'), ObjectId('682ddb4ff174d523f4231a75'), ObjectId('682ddb4ff174d523f4231a76'), ObjectId('682ddb4ff174d523f4231a77'), ObjectId('682ddb4ff174d523f4231a78'), ObjectId('682ddb4ff174d523f4231a79'), ObjectId('682ddb4ff174d523f4231a7a'), ObjectId('682ddb4ff174d523f4231a7b'), ObjectId('682ddb4ff174d523f4231a7c'), ObjectId('682ddb4ff174d523f4231a7d'), ObjectId('682ddb4ff174d523f4231a7e'), ObjectId('682ddb4ff174d523f4231a7f'), ObjectId('682ddb4ff174d523f4231a80'), ObjectId('682ddb4ff174d523f4231a81'), ObjectId('682ddb4ff174d523f4231a82'), ObjectId('682ddb4ff174d523f4231a83'), ObjectId('682ddb4ff174d523f4231a84'), ObjectId('682ddb4ff174d523f4231a85'), ObjectId('682ddb4ff174d523f4231a86'), ObjectId('682ddb4ff174d523f4231a87'), ObjectId('682ddb4ff174d523f4231a88'), ObjectId('682ddb4ff174d523f4231a89'), ObjectId('682ddb4ff174d523f4231a8a'), ObjectId('682ddb4ff174d523f4231a8b'), ObjectId('682ddb4ff174d523f4231a8c'), ObjectId('682ddb4ff174d523f4231a8d'), ObjectId('682ddb4ff174d523f4231a8e'), ObjectId('682ddb4ff174d523f4231a8f'), ObjectId('682ddb4ff174d523f4231a90'), ObjectId('682ddb4ff174d523f4231a91'), ObjectId('682ddb4ff174d523f4231a92'), ObjectId('682ddb4ff174d523f4231a93'), ObjectId('682ddb4ff174d523f4231a94'), ObjectId('682ddb4ff174d523f4231a95'), ObjectId('682ddb4ff174d523f4231a96'), ObjectId('682ddb4ff174d523f4231a97'), ObjectId('682ddb4ff174d523f4231a98'), ObjectId('682ddb4ff174d523f4231a99'), ObjectId('682ddb4ff174d523f4231a9a'), ObjectId('682ddb4ff174d523f4231a9b'), ObjectId('682ddb4ff174d523f4231a9c'), ObjectId('682ddb4ff174d523f4231a9d'), ObjectId('682ddb4ff174d523f4231a9e'), ObjectId('682ddb4ff174d523f4231a9f'), ObjectId('682ddb4ff174d523f4231aa0'), ObjectId('682ddb4ff174d523f4231aa1'), ObjectId('682ddb4ff174d523f4231aa2'), ObjectId('682ddb4ff174d523f4231aa3'), ObjectId('682ddb4ff174d523f4231aa4'), ObjectId('682ddb4ff174d523f4231aa5'), ObjectId('682ddb4ff174d523f4231aa6'), ObjectId('682ddb4ff174d523f4231aa7'), ObjectId('682ddb4ff174d523f4231aa8'), ObjectId('682ddb4ff174d523f4231aa9'), ObjectId('682ddb4ff174d523f4231aaa'), ObjectId('682ddb4ff174d523f4231aab'), ObjectId('682ddb4ff174d523f4231aac'), ObjectId('682ddb4ff174d523f4231aad'), ObjectId('682ddb4ff174d523f4231aae'), ObjectId('682ddb4ff174d523f4231aaf'), ObjectId('682ddb4ff174d523f4231ab0'), ObjectId('682ddb4ff174d523f4231ab1'), ObjectId('682ddb4ff174d523f4231ab2'), ObjectId('682ddb4ff174d523f4231ab3'), ObjectId('682ddb4ff174d523f4231ab4'), ObjectId('682ddb4ff174d523f4231ab5'), ObjectId('682ddb4ff174d523f4231ab6'), ObjectId('682ddb4ff174d523f4231ab7'), ObjectId('682ddb4ff174d523f4231ab8'), ObjectId('682ddb4ff174d523f4231ab9'), ObjectId('682ddb4ff174d523f4231aba'), ObjectId('682ddb4ff174d523f4231abb'), ObjectId('682ddb4ff174d523f4231abc'), ObjectId('682ddb4ff174d523f4231abd'), ObjectId('682ddb4ff174d523f4231abe'), ObjectId('682ddb4ff174d523f4231abf'), ObjectId('682ddb4ff174d523f4231ac0'), ObjectId('682ddb4ff174d523f4231ac1'), ObjectId('682ddb4ff174d523f4231ac2'), ObjectId('682ddb4ff174d523f4231ac3'), ObjectId('682ddb4ff174d523f4231ac4'), ObjectId('682ddb4ff174d523f4231ac5'), ObjectId('682ddb4ff174d523f4231ac6'), ObjectId('682ddb4ff174d523f4231ac7'), ObjectId('682ddb4ff174d523f4231ac8'), ObjectId('682ddb4ff174d523f4231ac9'), ObjectId('682ddb4ff174d523f4231aca'), ObjectId('682ddb4ff174d523f4231acb'), ObjectId('682ddb4ff174d523f4231acc'), ObjectId('682ddb4ff174d523f4231acd'), ObjectId('682ddb4ff174d523f4231ace'), ObjectId('682ddb4ff174d523f4231acf'), ObjectId('682ddb4ff174d523f4231ad0'), ObjectId('682ddb4ff174d523f4231ad1'), ObjectId('682ddb4ff174d523f4231ad2'), ObjectId('682ddb4ff174d523f4231ad3'), ObjectId('682ddb4ff174d523f4231ad4'), ObjectId('682ddb4ff174d523f4231ad5'), ObjectId('682ddb4ff174d523f4231ad6'), ObjectId('682ddb4ff174d523f4231ad7'), ObjectId('682ddb4ff174d523f4231ad8'), ObjectId('682ddb4ff174d523f4231ad9'), ObjectId('682ddb4ff174d523f4231ada'), ObjectId('682ddb4ff174d523f4231adb'), ObjectId('682ddb4ff174d523f4231adc'), ObjectId('682ddb4ff174d523f4231add'), ObjectId('682ddb4ff174d523f4231ade'), ObjectId('682ddb4ff174d523f4231adf'), ObjectId('682ddb4ff174d523f4231ae0'), ObjectId('682ddb4ff174d523f4231ae1'), ObjectId('682ddb4ff174d523f4231ae2'), ObjectId('682ddb4ff174d523f4231ae3'), ObjectId('682ddb4ff174d523f4231ae4'), ObjectId('682ddb4ff174d523f4231ae5'), ObjectId('682ddb4ff174d523f4231ae6'), ObjectId('682ddb4ff174d523f4231ae7'), ObjectId('682ddb4ff174d523f4231ae8'), ObjectId('682ddb4ff174d523f4231ae9'), ObjectId('682ddb4ff174d523f4231aea'), ObjectId('682ddb4ff174d523f4231aeb'), ObjectId('682ddb4ff174d523f4231aec'), ObjectId('682ddb4ff174d523f4231aed'), ObjectId('682ddb4ff174d523f4231aee'), ObjectId('682ddb4ff174d523f4231aef'), ObjectId('682ddb4ff174d523f4231af0'), ObjectId('682ddb4ff174d523f4231af1'), ObjectId('682ddb4ff174d523f4231af2'), ObjectId('682ddb4ff174d523f4231af3'), ObjectId('682ddb4ff174d523f4231af4'), ObjectId('682ddb4ff174d523f4231af5'), ObjectId('682ddb4ff174d523f4231af6'), ObjectId('682ddb4ff174d523f4231af7'), ObjectId('682ddb4ff174d523f4231af8'), ObjectId('682ddb4ff174d523f4231af9'), ObjectId('682ddb4ff174d523f4231afa'), ObjectId('682ddb4ff174d523f4231afb'), ObjectId('682ddb4ff174d523f4231afc'), ObjectId('682ddb4ff174d523f4231afd'), ObjectId('682ddb4ff174d523f4231afe'), ObjectId('682ddb4ff174d523f4231aff'), ObjectId('682ddb4ff174d523f4231b00'), ObjectId('682ddb4ff174d523f4231b01'), ObjectId('682ddb4ff174d523f4231b02'), ObjectId('682ddb4ff174d523f4231b03'), ObjectId('682ddb4ff174d523f4231b04'), ObjectId('682ddb4ff174d523f4231b05'), ObjectId('682ddb4ff174d523f4231b06'), ObjectId('682ddb4ff174d523f4231b07'), ObjectId('682ddb4ff174d523f4231b08'), ObjectId('682ddb4ff174d523f4231b09'), ObjectId('682ddb4ff174d523f4231b0a'), ObjectId('682ddb4ff174d523f4231b0b'), ObjectId('682ddb4ff174d523f4231b0c'), ObjectId('682ddb4ff174d523f4231b0d'), ObjectId('682ddb4ff174d523f4231b0e'), ObjectId('682ddb4ff174d523f4231b0f'), ObjectId('682ddb4ff174d523f4231b10'), ObjectId('682ddb4ff174d523f4231b11'), ObjectId('682ddb4ff174d523f4231b12'), ObjectId('682ddb4ff174d523f4231b13'), ObjectId('682ddb4ff174d523f4231b14'), ObjectId('682ddb4ff174d523f4231b15'), ObjectId('682ddb4ff174d523f4231b16'), ObjectId('682ddb4ff174d523f4231b17'), ObjectId('682ddb4ff174d523f4231b18'), ObjectId('682ddb4ff174d523f4231b19'), ObjectId('682ddb4ff174d523f4231b1a'), ObjectId('682ddb4ff174d523f4231b1b'), ObjectId('682ddb4ff174d523f4231b1c'), ObjectId('682ddb4ff174d523f4231b1d'), ObjectId('682ddb4ff174d523f4231b1e'), ObjectId('682ddb4ff174d523f4231b1f'), ObjectId('682ddb4ff174d523f4231b20'), ObjectId('682ddb4ff174d523f4231b21'), ObjectId('682ddb4ff174d523f4231b22'), ObjectId('682ddb4ff174d523f4231b23'), ObjectId('682ddb4ff174d523f4231b24'), ObjectId('682ddb4ff174d523f4231b25'), ObjectId('682ddb4ff174d523f4231b26'), ObjectId('682ddb4ff174d523f4231b27'), ObjectId('682ddb4ff174d523f4231b28'), ObjectId('682ddb4ff174d523f4231b29'), ObjectId('682ddb4ff174d523f4231b2a'), ObjectId('682ddb4ff174d523f4231b2b'), ObjectId('682ddb4ff174d523f4231b2c'), ObjectId('682ddb4ff174d523f4231b2d'), ObjectId('682ddb4ff174d523f4231b2e'), ObjectId('682ddb4ff174d523f4231b2f'), ObjectId('682ddb4ff174d523f4231b30'), ObjectId('682ddb4ff174d523f4231b31'), ObjectId('682ddb4ff174d523f4231b32'), ObjectId('682ddb4ff174d523f4231b33'), ObjectId('682ddb4ff174d523f4231b34'), ObjectId('682ddb4ff174d523f4231b35'), ObjectId('682ddb4ff174d523f4231b36'), ObjectId('682ddb4ff174d523f4231b37'), ObjectId('682ddb4ff174d523f4231b38'), ObjectId('682ddb4ff174d523f4231b39'), ObjectId('682ddb4ff174d523f4231b3a'), ObjectId('682ddb4ff174d523f4231b3b'), ObjectId('682ddb4ff174d523f4231b3c'), ObjectId('682ddb4ff174d523f4231b3d'), ObjectId('682ddb4ff174d523f4231b3e'), ObjectId('682ddb4ff174d523f4231b3f'), ObjectId('682ddb4ff174d523f4231b40'), ObjectId('682ddb4ff174d523f4231b41'), ObjectId('682ddb4ff174d523f4231b42'), ObjectId('682ddb4ff174d523f4231b43'), ObjectId('682ddb4ff174d523f4231b44'), ObjectId('682ddb4ff174d523f4231b45'), ObjectId('682ddb4ff174d523f4231b46'), ObjectId('682ddb4ff174d523f4231b47'), ObjectId('682ddb4ff174d523f4231b48'), ObjectId('682ddb4ff174d523f4231b49'), ObjectId('682ddb4ff174d523f4231b4a'), ObjectId('682ddb4ff174d523f4231b4b'), ObjectId('682ddb4ff174d523f4231b4c'), ObjectId('682ddb4ff174d523f4231b4d'), ObjectId('682ddb4ff174d523f4231b4e'), ObjectId('682ddb4ff174d523f4231b4f'), ObjectId('682ddb4ff174d523f4231b50'), ObjectId('682ddb4ff174d523f4231b51'), ObjectId('682ddb4ff174d523f4231b52'), ObjectId('682ddb4ff174d523f4231b53'), ObjectId('682ddb4ff174d523f4231b54'), ObjectId('682ddb4ff174d523f4231b55'), ObjectId('682ddb4ff174d523f4231b56'), ObjectId('682ddb4ff174d523f4231b57'), ObjectId('682ddb4ff174d523f4231b58'), ObjectId('682ddb4ff174d523f4231b59'), ObjectId('682ddb4ff174d523f4231b5a'), ObjectId('682ddb4ff174d523f4231b5b'), ObjectId('682ddb4ff174d523f4231b5c'), ObjectId('682ddb4ff174d523f4231b5d'), ObjectId('682ddb4ff174d523f4231b5e'), ObjectId('682ddb4ff174d523f4231b5f'), ObjectId('682ddb4ff174d523f4231b60'), ObjectId('682ddb4ff174d523f4231b61'), ObjectId('682ddb4ff174d523f4231b62'), ObjectId('682ddb4ff174d523f4231b63'), ObjectId('682ddb4ff174d523f4231b64'), ObjectId('682ddb4ff174d523f4231b65'), ObjectId('682ddb4ff174d523f4231b66'), ObjectId('682ddb4ff174d523f4231b67'), ObjectId('682ddb4ff174d523f4231b68'), ObjectId('682ddb4ff174d523f4231b69'), ObjectId('682ddb4ff174d523f4231b6a'), ObjectId('682ddb4ff174d523f4231b6b'), ObjectId('682ddb4ff174d523f4231b6c'), ObjectId('682ddb4ff174d523f4231b6d'), ObjectId('682ddb4ff174d523f4231b6e'), ObjectId('682ddb4ff174d523f4231b6f'), ObjectId('682ddb4ff174d523f4231b70'), ObjectId('682ddb4ff174d523f4231b71'), ObjectId('682ddb4ff174d523f4231b72'), ObjectId('682ddb4ff174d523f4231b73'), ObjectId('682ddb4ff174d523f4231b74'), ObjectId('682ddb4ff174d523f4231b75'), ObjectId('682ddb4ff174d523f4231b76'), ObjectId('682ddb4ff174d523f4231b77'), ObjectId('682ddb4ff174d523f4231b78'), ObjectId('682ddb4ff174d523f4231b79'), ObjectId('682ddb4ff174d523f4231b7a'), ObjectId('682ddb4ff174d523f4231b7b'), ObjectId('682ddb4ff174d523f4231b7c'), ObjectId('682ddb4ff174d523f4231b7d'), ObjectId('682ddb4ff174d523f4231b7e'), ObjectId('682ddb4ff174d523f4231b7f'), ObjectId('682ddb4ff174d523f4231b80'), ObjectId('682ddb4ff174d523f4231b81'), ObjectId('682ddb4ff174d523f4231b82'), ObjectId('682ddb4ff174d523f4231b83'), ObjectId('682ddb4ff174d523f4231b84'), ObjectId('682ddb4ff174d523f4231b85'), ObjectId('682ddb4ff174d523f4231b86'), ObjectId('682ddb4ff174d523f4231b87'), ObjectId('682ddb4ff174d523f4231b88'), ObjectId('682ddb4ff174d523f4231b89'), ObjectId('682ddb4ff174d523f4231b8a'), ObjectId('682ddb4ff174d523f4231b8b'), ObjectId('682ddb4ff174d523f4231b8c'), ObjectId('682ddb4ff174d523f4231b8d'), ObjectId('682ddb4ff174d523f4231b8e'), ObjectId('682ddb4ff174d523f4231b8f'), ObjectId('682ddb4ff174d523f4231b90'), ObjectId('682ddb4ff174d523f4231b91')], acknowledged=True)"
      ]
     },
     "execution_count": 70,
     "metadata": {},
     "output_type": "execute_result"
    }
   ],
   "source": [
    "from pymongo import MongoClient\n",
    "\n",
    "client = MongoClient('mongodb://localhost:27017/')\n",
    "db = client['cafe_db']  # Pastikan ini nama db yang kamu pakai\n",
    "collection = db['products']  # Pastikan ini nama collection yang kamu pakai\n",
    "\n",
    "# Contoh insert data\n",
    "docs = df_mongo.to_dict('records')\n",
    "collection.insert_many(docs)"
   ]
  },
  {
   "cell_type": "code",
   "execution_count": 71,
   "id": "4281727a",
   "metadata": {},
   "outputs": [
    {
     "data": {
      "text/plain": [
       "<pymongo.synchronous.cursor.Cursor at 0x129b147a0>"
      ]
     },
     "execution_count": 71,
     "metadata": {},
     "output_type": "execute_result"
    }
   ],
   "source": [
    "from bson import ObjectId\n",
    "\n",
    "ids = [ObjectId(\"682ddb4ff174d523f4231923\"), ObjectId(\"682ddb4ff174d523f4231924\")]  # contoh saja\n",
    "\n",
    "db.collection.find({\n",
    "    \"_id\": {\"$in\": ids}\n",
    "})\n"
   ]
  },
  {
   "cell_type": "markdown",
   "id": "508b098c",
   "metadata": {},
   "source": []
  },
  {
   "cell_type": "code",
   "execution_count": 72,
   "id": "610210a5",
   "metadata": {},
   "outputs": [],
   "source": [
    "from pymongo import MongoClient\n",
    "\n",
    "client = MongoClient('localhost', 27017)\n",
    "\n",
    "db = client['cafe_db']\n",
    "collection = db['products']  # nama koleksi sesuai data"
   ]
  },
  {
   "cell_type": "code",
   "execution_count": 79,
   "id": "b8c67bf8",
   "metadata": {},
   "outputs": [
    {
     "name": "stdout",
     "output_type": "stream",
     "text": [
      "{'_id': ObjectId('682dd017f174d523f423143d'), 'Area Code': 303, 'Market_size': 'Major Market', 'Market': 'Central', 'Product_line': 'Leaves', 'Product_type': 'Herbal Tea', 'Product': 'Lemon', 'State': 'Colorado', 'Type': 'Decaf'}\n",
      "{'_id': ObjectId('682dd017f174d523f423143e'), 'Area Code': 970, 'Market_size': 'Major Market', 'Market': 'Central', 'Product_line': 'Leaves', 'Product_type': 'Herbal Tea', 'Product': 'Mint', 'State': 'Colorado', 'Type': 'Decaf'}\n",
      "{'_id': ObjectId('682dd017f174d523f423143f'), 'Area Code': 409, 'Market_size': 'Major Market', 'Market': 'South', 'Product_line': 'Leaves', 'Product_type': 'Herbal Tea', 'Product': 'Lemon', 'State': 'Texas', 'Type': 'Decaf'}\n",
      "{'_id': ObjectId('682dd017f174d523f4231440'), 'Area Code': 850, 'Market_size': 'Major Market', 'Market': 'East', 'Product_line': 'Leaves', 'Product_type': 'Tea', 'Product': 'Darjeeling', 'State': 'Florida', 'Type': 'Regular'}\n",
      "{'_id': ObjectId('682dd017f174d523f4231441'), 'Area Code': 562, 'Market_size': 'Major Market', 'Market': 'West', 'Product_line': 'Leaves', 'Product_type': 'Tea', 'Product': 'Green Tea', 'State': 'California', 'Type': 'Regular'}\n"
     ]
    }
   ],
   "source": [
    "for doc in collection.find().limit(5):\n",
    "    print(doc)"
   ]
  },
  {
   "cell_type": "code",
   "execution_count": 76,
   "id": "32b99a6a",
   "metadata": {},
   "outputs": [
    {
     "name": "stdout",
     "output_type": "stream",
     "text": [
      "['products']\n"
     ]
    }
   ],
   "source": [
    "print(db.list_collection_names())\n",
    "for doc in db.orders.find().limit(3):\n",
    "    print(doc)\n"
   ]
  },
  {
   "cell_type": "code",
   "execution_count": 77,
   "id": "a9fbfa36",
   "metadata": {},
   "outputs": [
    {
     "data": {
      "text/plain": [
       "InsertManyResult([ObjectId('682df7fcf174d523f4231b93'), ObjectId('682df7fcf174d523f4231b94')], acknowledged=True)"
      ]
     },
     "execution_count": 77,
     "metadata": {},
     "output_type": "execute_result"
    }
   ],
   "source": [
    "from bson import ObjectId\n",
    "\n",
    "# Contoh insert ke collection orders\n",
    "orders = db['orders']\n",
    "\n",
    "orders.insert_many([\n",
    "    {\"order_id\": 1, \"product_id\": ObjectId(\"682dd017f174d523f423143d\"), \"quantity\": 10},\n",
    "    {\"order_id\": 2, \"product_id\": ObjectId(\"682dd017f174d523f423143e\"), \"quantity\": 5},\n",
    "])"
   ]
  },
  {
   "cell_type": "code",
   "execution_count": 78,
   "id": "ab4f2586",
   "metadata": {},
   "outputs": [
    {
     "name": "stdout",
     "output_type": "stream",
     "text": [
      "{'_id': ObjectId('682df7fcf174d523f4231b93'), 'order_id': 1, 'product_id': ObjectId('682dd017f174d523f423143d'), 'quantity': 10, 'product_details': [{'_id': ObjectId('682dd017f174d523f423143d'), 'Area Code': 303, 'Market_size': 'Major Market', 'Market': 'Central', 'Product_line': 'Leaves', 'Product_type': 'Herbal Tea', 'Product': 'Lemon', 'State': 'Colorado', 'Type': 'Decaf'}]}\n",
      "{'_id': ObjectId('682df7fcf174d523f4231b94'), 'order_id': 2, 'product_id': ObjectId('682dd017f174d523f423143e'), 'quantity': 5, 'product_details': [{'_id': ObjectId('682dd017f174d523f423143e'), 'Area Code': 970, 'Market_size': 'Major Market', 'Market': 'Central', 'Product_line': 'Leaves', 'Product_type': 'Herbal Tea', 'Product': 'Mint', 'State': 'Colorado', 'Type': 'Decaf'}]}\n"
     ]
    }
   ],
   "source": [
    "pipeline = [\n",
    "    {\n",
    "        \"$lookup\": {\n",
    "            \"from\": \"products\",\n",
    "            \"localField\": \"product_id\",\n",
    "            \"foreignField\": \"_id\",\n",
    "            \"as\": \"product_details\"\n",
    "        }\n",
    "    }\n",
    "]\n",
    "\n",
    "results = db.orders.aggregate(pipeline)\n",
    "for res in results:\n",
    "    print(res)\n"
   ]
  },
  {
   "cell_type": "code",
   "execution_count": 80,
   "id": "ba6674d0",
   "metadata": {},
   "outputs": [],
   "source": [
    "from pymongo import MongoClient\n",
    "\n",
    "client = MongoClient('localhost', 27017)\n",
    "db = client['cafe_db']\n",
    "products_collection = db['products']\n",
    "\n",
    "mongo_data = list(products_collection.find())\n",
    "mongo_map = {item['Product']: item for item in mongo_data}  # Indexed by product name\n"
   ]
  },
  {
   "cell_type": "code",
   "execution_count": 81,
   "id": "c5b0a96a",
   "metadata": {},
   "outputs": [],
   "source": [
    "from cassandra.cluster import Cluster\n",
    "\n",
    "cluster = Cluster(['127.0.0.1'])\n",
    "session = cluster.connect('cafe_analytics')\n",
    "\n",
    "rows = session.execute(\"SELECT * FROM coffee_data\")\n",
    "cassandra_data = [row._asdict() for row in rows]\n"
   ]
  },
  {
   "cell_type": "code",
   "execution_count": 82,
   "id": "37f23479",
   "metadata": {},
   "outputs": [],
   "source": [
    "# Asumsi kolom `product_name` ada di Cassandra dan cocok dengan `Product` di MongoDB\n",
    "joined_data = []\n",
    "\n",
    "for row in cassandra_data:\n",
    "    product_name = row.get('product_name')\n",
    "    mongo_info = mongo_map.get(product_name)\n",
    "    \n",
    "    if mongo_info:\n",
    "        combined = {\n",
    "            **row,\n",
    "            **mongo_info\n",
    "        }\n",
    "        joined_data.append(combined)\n",
    "\n",
    "# Tampilkan hasil gabungan\n",
    "for item in joined_data[:5]:\n",
    "    print(item)\n"
   ]
  },
  {
   "cell_type": "code",
   "execution_count": 83,
   "id": "acfd2117",
   "metadata": {},
   "outputs": [
    {
     "ename": "NameError",
     "evalue": "name 'Row' is not defined",
     "output_type": "error",
     "traceback": [
      "\u001b[31m---------------------------------------------------------------------------\u001b[39m",
      "\u001b[31mNameError\u001b[39m                                 Traceback (most recent call last)",
      "\u001b[36mCell\u001b[39m\u001b[36m \u001b[39m\u001b[32mIn[83]\u001b[39m\u001b[32m, line 1\u001b[39m\n\u001b[32m----> \u001b[39m\u001b[32m1\u001b[39m \u001b[43mRow\u001b[49m(\u001b[38;5;28mid\u001b[39m=UUID(...), cogs=\u001b[32m34\u001b[39m, date=\u001b[33m'\u001b[39m\u001b[33m5/21/2013\u001b[39m\u001b[33m'\u001b[39m, difference_profit=\u001b[32m5\u001b[39m, profit=\u001b[32m45\u001b[39m, sales=\u001b[32m91\u001b[39m, target_profit=\u001b[32m40\u001b[39m, target_sales=\u001b[32m80\u001b[39m, total_expenses=\u001b[32m21\u001b[39m)\n",
      "\u001b[31mNameError\u001b[39m: name 'Row' is not defined"
     ]
    }
   ],
   "source": [
    "Row(id=UUID(...), cogs=34, date='5/21/2013', difference_profit=5, profit=45, sales=91, target_profit=40, target_sales=80, total_expenses=21)\n"
   ]
  },
  {
   "cell_type": "code",
   "execution_count": null,
   "id": "2f86dc63",
   "metadata": {},
   "outputs": [],
   "source": []
  }
 ],
 "metadata": {
  "kernelspec": {
   "display_name": "rosbd",
   "language": "python",
   "name": "python3"
  },
  "language_info": {
   "codemirror_mode": {
    "name": "ipython",
    "version": 3
   },
   "file_extension": ".py",
   "mimetype": "text/x-python",
   "name": "python",
   "nbconvert_exporter": "python",
   "pygments_lexer": "ipython3",
   "version": "3.12.9"
  }
 },
 "nbformat": 4,
 "nbformat_minor": 5
}
